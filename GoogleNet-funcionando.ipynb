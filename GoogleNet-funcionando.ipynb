{
 "cells": [
  {
   "cell_type": "markdown",
   "metadata": {},
   "source": [
    "# GoogLeNet en base a un algoritmo usado para mnist\n",
    "\n",
    "Link oritiginal: https://github.com/melty-chocolate/GoogLeNet-Inception-TensorFlow\n",
    "migrado a TF 2.0\n",
    "\n",
    "este algoritmo de googlenet no me funciono.\n",
    "https://github.com/malikmdk/GoogLeNet-with-Tensorflow-2.0"
   ]
  },
  {
   "cell_type": "code",
   "execution_count": 1,
   "metadata": {},
   "outputs": [
    {
     "name": "stdout",
     "output_type": "stream",
     "text": [
      "Num GPUs Available:  1\n"
     ]
    }
   ],
   "source": [
    "#prueba de gpu\n",
    "import tensorflow as tf\n",
    "print(\"Num GPUs Available: \", len(tf.config.experimental.list_physical_devices('GPU')))"
   ]
  },
  {
   "cell_type": "code",
   "execution_count": 2,
   "metadata": {},
   "outputs": [],
   "source": [
    "import tensorflow as tf\n",
    "import numpy as np\n",
    "from tensorflow.keras import layers\n",
    "from tensorflow.keras.layers import Dropout,Input, Add, Dense, Activation, ZeroPadding2D, BatchNormalization, Flatten, Conv2D, AveragePooling2D, MaxPooling2D, GlobalMaxPooling2D\n",
    "from tensorflow.keras.models import Model, load_model\n",
    "from tensorflow.keras.preprocessing import image\n",
    "from tensorflow.keras.utils import plot_model\n",
    "import pydot\n",
    "import pickle"
   ]
  },
  {
   "cell_type": "code",
   "execution_count": 3,
   "metadata": {},
   "outputs": [
    {
     "name": "stdout",
     "output_type": "stream",
     "text": [
      "(4259, 229, 229, 3) (4259, 7)\n"
     ]
    }
   ],
   "source": [
    "# se cargan X e y desde los datos preprocesados\n",
    "pickle_in = open(\"X.pickle\", \"rb\")\n",
    "X = pickle.load(pickle_in)\n",
    "\n",
    "pickle_in = open(\"y.pickle\", \"rb\")\n",
    "y = pickle.load(pickle_in)\n",
    "\n",
    "X = X/255\n",
    "\n",
    "print( X.shape , y.shape)\n",
    "\n",
    "\n"
   ]
  },
  {
   "cell_type": "code",
   "execution_count": 4,
   "metadata": {},
   "outputs": [],
   "source": [
    "def Gnet_model(input_shape, classes):\n",
    "    \n",
    "    X_input = Input(input_shape)\n",
    "  \n",
    "    # CONV -> BN -> RELU Block applied to X\n",
    "    X = Conv2D(32, (5, 5), name = 'conv1',padding = 'same')(X_input)\n",
    "    X = BatchNormalization(axis = 3, name = 'bn1')(X)\n",
    "    X = Activation('relu')(X)\n",
    "    # MAXPOOL\n",
    "    X = MaxPooling2D((2, 2),strides = (2, 2), name = 'max_pool1')(X)\n",
    "    \n",
    "    # branch1\n",
    "    # CONV 1X1\n",
    "    b1_X = Conv2D(64, (1, 1), name = 'conv2',padding = 'valid')(X)\n",
    "    b1_X = BatchNormalization(axis = 3, name = 'bn2')(b1_X)\n",
    "    b1_X = Activation('relu')(b1_X)\n",
    "    b1_X = MaxPooling2D((3, 3), name='max_pool2')(b1_X)\n",
    "\n",
    "    # branch2\n",
    "    # CONV 1x1 -> CONV 3x3\n",
    "    b2_X = Conv2D(64, (1, 1), name = 'conv3',padding = 'same')(X)\n",
    "    b2_X = BatchNormalization(axis = 3, name = 'bn3')(b2_X)\n",
    "    b2_X = Activation('relu')(b2_X)\n",
    "    b2_X = Conv2D(64, (3, 3), name = 'conv4',padding = 'same')(b2_X)\n",
    "    b2_X = BatchNormalization(axis = 3, name = 'bn4')(b2_X)\n",
    "    b2_X = Activation('relu')(b2_X)\n",
    "    b2_X = MaxPooling2D((3, 3), name='max_pool3')(b2_X)\n",
    "    \n",
    "    # branch3\n",
    "    # CONV 1x1 -> CONV 5x5\n",
    "    b3_X = Conv2D(64, (1, 1), name = 'conv5',padding = 'same')(X)\n",
    "    b3_X = BatchNormalization(axis = 3, name = 'bn5')(b3_X)\n",
    "    b3_X = Activation('relu')(b3_X)\n",
    "    b3_X = Conv2D(64, (5, 5), name = 'conv6',padding = 'same')(b3_X)\n",
    "    b3_X = BatchNormalization(axis = 3, name = 'bn6')(b3_X)\n",
    "    b3_X = Activation('relu')(b3_X)\n",
    "    b3_X = MaxPooling2D((3, 3), name='max_pool4')(b3_X)\n",
    "    \n",
    "    # branch4\n",
    "    # MAXPOOL 3x3 -> CONV 1x1\n",
    "    b4_X = MaxPooling2D((3, 3), name='max_pool5')(X)\n",
    "    b4_X = Conv2D(64, (1, 1), name = 'conv7',padding = 'same')(b4_X)\n",
    "    b4_X = BatchNormalization(axis = 3, name = 'bn7')(b4_X)\n",
    "    b4_X = Activation('relu')(b4_X)\n",
    "    \n",
    "    # CONCAT\n",
    "    concat = tf.keras.layers.concatenate([b1_X, b2_X, b3_X, b4_X],axis=3)\n",
    "    X = Activation('relu')(concat)\n",
    "    \n",
    "    #X = Flatten()(X)\n",
    "    X = Dense(128, activation='relu', name='fc1')(X)\n",
    "    \n",
    "    X = Flatten()(X)\n",
    "    X = Dense(classes, activation='softmax', name='fc2')(X)\n",
    "    # Create model. \n",
    "    model = Model(inputs = X_input, outputs = X, name='MNIST')\n",
    "\n",
    "    return model\n",
    "\n"
   ]
  },
  {
   "cell_type": "code",
   "execution_count": 5,
   "metadata": {},
   "outputs": [
    {
     "name": "stdout",
     "output_type": "stream",
     "text": [
      "Model: \"MNIST\"\n",
      "__________________________________________________________________________________________________\n",
      "Layer (type)                    Output Shape         Param #     Connected to                     \n",
      "==================================================================================================\n",
      "input_1 (InputLayer)            [(None, 229, 229, 3) 0                                            \n",
      "__________________________________________________________________________________________________\n",
      "conv1 (Conv2D)                  (None, 229, 229, 32) 2432        input_1[0][0]                    \n",
      "__________________________________________________________________________________________________\n",
      "bn1 (BatchNormalization)        (None, 229, 229, 32) 128         conv1[0][0]                      \n",
      "__________________________________________________________________________________________________\n",
      "activation (Activation)         (None, 229, 229, 32) 0           bn1[0][0]                        \n",
      "__________________________________________________________________________________________________\n",
      "max_pool1 (MaxPooling2D)        (None, 114, 114, 32) 0           activation[0][0]                 \n",
      "__________________________________________________________________________________________________\n",
      "conv3 (Conv2D)                  (None, 114, 114, 64) 2112        max_pool1[0][0]                  \n",
      "__________________________________________________________________________________________________\n",
      "conv5 (Conv2D)                  (None, 114, 114, 64) 2112        max_pool1[0][0]                  \n",
      "__________________________________________________________________________________________________\n",
      "bn3 (BatchNormalization)        (None, 114, 114, 64) 256         conv3[0][0]                      \n",
      "__________________________________________________________________________________________________\n",
      "bn5 (BatchNormalization)        (None, 114, 114, 64) 256         conv5[0][0]                      \n",
      "__________________________________________________________________________________________________\n",
      "activation_2 (Activation)       (None, 114, 114, 64) 0           bn3[0][0]                        \n",
      "__________________________________________________________________________________________________\n",
      "activation_4 (Activation)       (None, 114, 114, 64) 0           bn5[0][0]                        \n",
      "__________________________________________________________________________________________________\n",
      "conv2 (Conv2D)                  (None, 114, 114, 64) 2112        max_pool1[0][0]                  \n",
      "__________________________________________________________________________________________________\n",
      "conv4 (Conv2D)                  (None, 114, 114, 64) 36928       activation_2[0][0]               \n",
      "__________________________________________________________________________________________________\n",
      "conv6 (Conv2D)                  (None, 114, 114, 64) 102464      activation_4[0][0]               \n",
      "__________________________________________________________________________________________________\n",
      "max_pool5 (MaxPooling2D)        (None, 38, 38, 32)   0           max_pool1[0][0]                  \n",
      "__________________________________________________________________________________________________\n",
      "bn2 (BatchNormalization)        (None, 114, 114, 64) 256         conv2[0][0]                      \n",
      "__________________________________________________________________________________________________\n",
      "bn4 (BatchNormalization)        (None, 114, 114, 64) 256         conv4[0][0]                      \n",
      "__________________________________________________________________________________________________\n",
      "bn6 (BatchNormalization)        (None, 114, 114, 64) 256         conv6[0][0]                      \n",
      "__________________________________________________________________________________________________\n",
      "conv7 (Conv2D)                  (None, 38, 38, 64)   2112        max_pool5[0][0]                  \n",
      "__________________________________________________________________________________________________\n",
      "activation_1 (Activation)       (None, 114, 114, 64) 0           bn2[0][0]                        \n",
      "__________________________________________________________________________________________________\n",
      "activation_3 (Activation)       (None, 114, 114, 64) 0           bn4[0][0]                        \n",
      "__________________________________________________________________________________________________\n",
      "activation_5 (Activation)       (None, 114, 114, 64) 0           bn6[0][0]                        \n",
      "__________________________________________________________________________________________________\n",
      "bn7 (BatchNormalization)        (None, 38, 38, 64)   256         conv7[0][0]                      \n",
      "__________________________________________________________________________________________________\n",
      "max_pool2 (MaxPooling2D)        (None, 38, 38, 64)   0           activation_1[0][0]               \n",
      "__________________________________________________________________________________________________\n",
      "max_pool3 (MaxPooling2D)        (None, 38, 38, 64)   0           activation_3[0][0]               \n",
      "__________________________________________________________________________________________________\n",
      "max_pool4 (MaxPooling2D)        (None, 38, 38, 64)   0           activation_5[0][0]               \n",
      "__________________________________________________________________________________________________\n",
      "activation_6 (Activation)       (None, 38, 38, 64)   0           bn7[0][0]                        \n",
      "__________________________________________________________________________________________________\n",
      "concatenate (Concatenate)       (None, 38, 38, 256)  0           max_pool2[0][0]                  \n",
      "                                                                 max_pool3[0][0]                  \n",
      "                                                                 max_pool4[0][0]                  \n",
      "                                                                 activation_6[0][0]               \n",
      "__________________________________________________________________________________________________\n",
      "activation_7 (Activation)       (None, 38, 38, 256)  0           concatenate[0][0]                \n",
      "__________________________________________________________________________________________________\n",
      "fc1 (Dense)                     (None, 38, 38, 128)  32896       activation_7[0][0]               \n",
      "__________________________________________________________________________________________________\n",
      "flatten (Flatten)               (None, 184832)       0           fc1[0][0]                        \n",
      "__________________________________________________________________________________________________\n",
      "fc2 (Dense)                     (None, 7)            1293831     flatten[0][0]                    \n",
      "==================================================================================================\n",
      "Total params: 1,478,663\n",
      "Trainable params: 1,477,831\n",
      "Non-trainable params: 832\n",
      "__________________________________________________________________________________________________\n"
     ]
    }
   ],
   "source": [
    "config = tf.compat.v1.ConfigProto()\n",
    "config.gpu_options.allow_growth = True\n",
    "sess = tf.compat.v1.Session(config=config)\n",
    "\n",
    "modelo = Gnet_model(input_shape=(229,229,3), classes = 7)\n",
    "modelo.compile(optimizer = \"adam\", loss = \"categorical_crossentropy\", metrics = [\"accuracy\"])\n",
    "\n",
    "modelo.summary()"
   ]
  },
  {
   "cell_type": "code",
   "execution_count": 6,
   "metadata": {},
   "outputs": [],
   "source": [
    "import numpy as np\n",
    "from sklearn.model_selection import train_test_split\n",
    "X_train, X_test, y_train, y_test = train_test_split(X, y, test_size=0.2)\n",
    "\n"
   ]
  },
  {
   "cell_type": "code",
   "execution_count": null,
   "metadata": {},
   "outputs": [],
   "source": []
  },
  {
   "cell_type": "code",
   "execution_count": 7,
   "metadata": {},
   "outputs": [
    {
     "name": "stdout",
     "output_type": "stream",
     "text": [
      "Epoch 1/20\n",
      "54/54 [==============================] - 12s 221ms/step - loss: 4.4709 - accuracy: 0.6008\n",
      "Epoch 2/20\n",
      "54/54 [==============================] - 11s 208ms/step - loss: 0.3234 - accuracy: 0.8873\n",
      "Epoch 3/20\n",
      "54/54 [==============================] - 11s 208ms/step - loss: 0.1648 - accuracy: 0.9436\n",
      "Epoch 4/20\n",
      "54/54 [==============================] - 11s 208ms/step - loss: 0.1205 - accuracy: 0.9615\n",
      "Epoch 5/20\n",
      "54/54 [==============================] - 11s 208ms/step - loss: 0.0727 - accuracy: 0.9736\n",
      "Epoch 6/20\n",
      "54/54 [==============================] - 11s 208ms/step - loss: 0.0539 - accuracy: 0.9839\n",
      "Epoch 7/20\n",
      "54/54 [==============================] - 11s 208ms/step - loss: 0.0419 - accuracy: 0.9862\n",
      "Epoch 8/20\n",
      "54/54 [==============================] - 11s 208ms/step - loss: 0.0153 - accuracy: 0.9956\n",
      "Epoch 9/20\n",
      "54/54 [==============================] - 11s 207ms/step - loss: 0.0170 - accuracy: 0.9944\n",
      "Epoch 10/20\n",
      "54/54 [==============================] - 11s 208ms/step - loss: 0.0189 - accuracy: 0.9950\n",
      "Epoch 11/20\n",
      "54/54 [==============================] - 11s 206ms/step - loss: 0.0274 - accuracy: 0.9924\n",
      "Epoch 12/20\n",
      "54/54 [==============================] - 11s 206ms/step - loss: 0.0295 - accuracy: 0.9886\n",
      "Epoch 13/20\n",
      "54/54 [==============================] - 11s 207ms/step - loss: 0.0842 - accuracy: 0.9733\n",
      "Epoch 14/20\n",
      "54/54 [==============================] - 11s 207ms/step - loss: 0.0446 - accuracy: 0.9880\n",
      "Epoch 15/20\n",
      "54/54 [==============================] - 11s 207ms/step - loss: 0.0293 - accuracy: 0.9932\n",
      "Epoch 16/20\n",
      "54/54 [==============================] - 11s 207ms/step - loss: 0.0507 - accuracy: 0.9839\n",
      "Epoch 17/20\n",
      "54/54 [==============================] - 11s 207ms/step - loss: 0.0192 - accuracy: 0.9944\n",
      "Epoch 18/20\n",
      "54/54 [==============================] - 11s 207ms/step - loss: 0.0379 - accuracy: 0.9894\n",
      "Epoch 19/20\n",
      "54/54 [==============================] - 11s 207ms/step - loss: 0.0132 - accuracy: 0.9959\n",
      "Epoch 20/20\n",
      "54/54 [==============================] - 11s 206ms/step - loss: 0.0023 - accuracy: 0.9994\n"
     ]
    },
    {
     "data": {
      "text/plain": [
       "<tensorflow.python.keras.callbacks.History at 0x22c5cdb9348>"
      ]
     },
     "execution_count": 7,
     "metadata": {},
     "output_type": "execute_result"
    }
   ],
   "source": [
    "modelo.fit(X_train, y_train, epochs = 20, batch_size = 64 )"
   ]
  },
  {
   "cell_type": "code",
   "execution_count": 8,
   "metadata": {},
   "outputs": [
    {
     "name": "stdout",
     "output_type": "stream",
     "text": [
      "\n",
      "# Evaluate on test data\n",
      "7/7 [==============================] - 2s 229ms/step - loss: 0.3041 - accuracy: 0.9425\n",
      "test loss, test acc: [0.3041243255138397, 0.9424882531166077]\n",
      "\n",
      "# Generate predictions for 3 samples\n",
      "predictions shape: (3, 7)\n",
      "predicciones:  [4.9357592e-15 6.6917676e-14 6.1487108e-06 1.9291150e-07 2.9127109e-12\n",
      " 9.9999094e-01 2.7856443e-06] [1.2681151e-09 8.2826638e-01 5.8903615e-09 2.9381201e-02 1.4235014e-01\n",
      " 7.9741893e-09 2.2676832e-06] [8.9523483e-18 9.9855922e-12 7.6378628e-14 4.1658180e-18 8.1310233e-17\n",
      " 8.3465435e-18 1.0000000e+00]\n"
     ]
    }
   ],
   "source": [
    "# Evaluate the model on the test data using `evaluate`\n",
    "print('\\n# Evaluate on test data')\n",
    "results = modelo.evaluate(X_test, y_test, batch_size=128)\n",
    "print('test loss, test acc:', results)\n",
    "\n",
    "# Generate predictions (probabilities -- the output of the last layer)\n",
    "# on new data using `predict`\n",
    "print('\\n# Generate predictions for 3 samples')\n",
    "predictions = modelo.predict(X_test[:3])\n",
    "print('predictions shape:', predictions.shape)\n",
    "print('predicciones: ' , predictions[0],predictions[1],predictions[2])"
   ]
  }
 ],
 "metadata": {
  "kernelspec": {
   "display_name": "Python 3",
   "language": "python",
   "name": "python3"
  },
  "language_info": {
   "codemirror_mode": {
    "name": "ipython",
    "version": 3
   },
   "file_extension": ".py",
   "mimetype": "text/x-python",
   "name": "python",
   "nbconvert_exporter": "python",
   "pygments_lexer": "ipython3",
   "version": "3.7.7"
  }
 },
 "nbformat": 4,
 "nbformat_minor": 2
}
