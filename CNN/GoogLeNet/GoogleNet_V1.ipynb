{
 "cells": [
  {
   "cell_type": "markdown",
   "metadata": {},
   "source": [
    "# GoogLeNet \n",
    "\n",
    "Link oritiginal: https://github.com/melty-chocolate/GoogLeNet-Inception-TensorFlow\n",
    "migrado a TF 2.0\n",
    "\n",
    "este algoritmo de googlenet no me funciono.\n",
    "https://github.com/malikmdk/GoogLeNet-with-Tensorflow-2.0"
   ]
  },
  {
   "cell_type": "code",
   "execution_count": 1,
   "metadata": {},
   "outputs": [
    {
     "name": "stdout",
     "output_type": "stream",
     "text": [
      "Num GPUs Available:  1\n"
     ]
    }
   ],
   "source": [
    "#prueba de gpu\n",
    "import tensorflow as tf\n",
    "print(\"Num GPUs Available: \", len(tf.config.experimental.list_physical_devices('GPU')))"
   ]
  },
  {
   "cell_type": "code",
   "execution_count": 2,
   "metadata": {},
   "outputs": [],
   "source": [
    "import tensorflow as tf\n",
    "import numpy as np\n",
    "from tensorflow.keras import layers\n",
    "from tensorflow.keras.layers import Dropout,Input, Add, Dense, Activation, ZeroPadding2D, BatchNormalization, Flatten, Conv2D, AveragePooling2D, MaxPooling2D, GlobalMaxPooling2D\n",
    "from tensorflow.keras.models import Model, load_model\n",
    "from tensorflow.keras.preprocessing import image\n",
    "from tensorflow.keras.utils import plot_model\n",
    "import pydot\n",
    "import pickle\n",
    "import matplotlib.pyplot as plt"
   ]
  },
  {
   "cell_type": "code",
   "execution_count": 3,
   "metadata": {},
   "outputs": [
    {
     "name": "stdout",
     "output_type": "stream",
     "text": [
      "(4259, 229, 229, 3) (4259, 7)\n"
     ]
    }
   ],
   "source": [
    "# se cargan X e y desde los datos preprocesados\n",
    "# uncomment to local test\n",
    "#pickle_in = open(\"X.pickle\", \"rb\")\n",
    "#X = pickle.load(pickle_in)\n",
    "\n",
    "#pickle_in = open(\"y.pickle\", \"rb\")\n",
    "#y = pickle.load(pickle_in)\n",
    "\n",
    "#X = X/255\n",
    "\n",
    "#print( X.shape , y.shape)\n",
    "\n",
    "\n"
   ]
  },
  {
   "cell_type": "code",
   "execution_count": 4,
   "metadata": {},
   "outputs": [],
   "source": [
    "def Gnet_model(input_shape, classes):\n",
    "    \n",
    "    X_input = Input(input_shape)\n",
    "  \n",
    "    # CONV -> BN -> RELU Block applied to X\n",
    "    X = Conv2D(32, (5, 5), name = 'conv1',padding = 'same')(X_input)\n",
    "    X = BatchNormalization(axis = 3, name = 'bn1')(X)\n",
    "    X = Activation('relu')(X)\n",
    "    # MAXPOOL\n",
    "    X = MaxPooling2D((2, 2),strides = (2, 2), name = 'max_pool1')(X)\n",
    "    \n",
    "    # branch1\n",
    "    # CONV 1X1\n",
    "    b1_X = Conv2D(64, (1, 1), name = 'conv2',padding = 'valid')(X)\n",
    "    b1_X = BatchNormalization(axis = 3, name = 'bn2')(b1_X)\n",
    "    b1_X = Activation('relu')(b1_X)\n",
    "    b1_X = MaxPooling2D((3, 3), name='max_pool2')(b1_X)\n",
    "\n",
    "    # branch2\n",
    "    # CONV 1x1 -> CONV 3x3\n",
    "    b2_X = Conv2D(64, (1, 1), name = 'conv3',padding = 'same')(X)\n",
    "    b2_X = BatchNormalization(axis = 3, name = 'bn3')(b2_X)\n",
    "    b2_X = Activation('relu')(b2_X)\n",
    "    b2_X = Conv2D(64, (3, 3), name = 'conv4',padding = 'same')(b2_X)\n",
    "    b2_X = BatchNormalization(axis = 3, name = 'bn4')(b2_X)\n",
    "    b2_X = Activation('relu')(b2_X)\n",
    "    b2_X = MaxPooling2D((3, 3), name='max_pool3')(b2_X)\n",
    "    \n",
    "    # branch3\n",
    "    # CONV 1x1 -> CONV 5x5\n",
    "    b3_X = Conv2D(64, (1, 1), name = 'conv5',padding = 'same')(X)\n",
    "    b3_X = BatchNormalization(axis = 3, name = 'bn5')(b3_X)\n",
    "    b3_X = Activation('relu')(b3_X)\n",
    "    b3_X = Conv2D(64, (5, 5), name = 'conv6',padding = 'same')(b3_X)\n",
    "    b3_X = BatchNormalization(axis = 3, name = 'bn6')(b3_X)\n",
    "    b3_X = Activation('relu')(b3_X)\n",
    "    b3_X = MaxPooling2D((3, 3), name='max_pool4')(b3_X)\n",
    "    \n",
    "    # branch4\n",
    "    # MAXPOOL 3x3 -> CONV 1x1\n",
    "    b4_X = MaxPooling2D((3, 3), name='max_pool5')(X)\n",
    "    b4_X = Conv2D(64, (1, 1), name = 'conv7',padding = 'same')(b4_X)\n",
    "    b4_X = BatchNormalization(axis = 3, name = 'bn7')(b4_X)\n",
    "    b4_X = Activation('relu')(b4_X)\n",
    "    \n",
    "    # CONCAT\n",
    "    concat = tf.keras.layers.concatenate([b1_X, b2_X, b3_X, b4_X],axis=3)\n",
    "    X = Activation('relu')(concat)\n",
    "    \n",
    "    #X = Flatten()(X)\n",
    "    X = Dense(128, activation='relu', name='fc1')(X)\n",
    "    \n",
    "    X = Flatten()(X)\n",
    "    X = Dense(classes, activation='softmax', name='fc2')(X)\n",
    "    # Create model. \n",
    "    model = Model(inputs = X_input, outputs = X, name='LeafData')\n",
    "\n",
    "    return model\n",
    "\n"
   ]
  },
  {
   "cell_type": "code",
   "execution_count": 5,
   "metadata": {},
   "outputs": [
    {
     "name": "stdout",
     "output_type": "stream",
     "text": [
      "Model: \"LeafData\"\n",
      "__________________________________________________________________________________________________\n",
      "Layer (type)                    Output Shape         Param #     Connected to                     \n",
      "==================================================================================================\n",
      "input_1 (InputLayer)            [(None, 229, 229, 3) 0                                            \n",
      "__________________________________________________________________________________________________\n",
      "conv1 (Conv2D)                  (None, 229, 229, 32) 2432        input_1[0][0]                    \n",
      "__________________________________________________________________________________________________\n",
      "bn1 (BatchNormalization)        (None, 229, 229, 32) 128         conv1[0][0]                      \n",
      "__________________________________________________________________________________________________\n",
      "activation (Activation)         (None, 229, 229, 32) 0           bn1[0][0]                        \n",
      "__________________________________________________________________________________________________\n",
      "max_pool1 (MaxPooling2D)        (None, 114, 114, 32) 0           activation[0][0]                 \n",
      "__________________________________________________________________________________________________\n",
      "conv3 (Conv2D)                  (None, 114, 114, 64) 2112        max_pool1[0][0]                  \n",
      "__________________________________________________________________________________________________\n",
      "conv5 (Conv2D)                  (None, 114, 114, 64) 2112        max_pool1[0][0]                  \n",
      "__________________________________________________________________________________________________\n",
      "bn3 (BatchNormalization)        (None, 114, 114, 64) 256         conv3[0][0]                      \n",
      "__________________________________________________________________________________________________\n",
      "bn5 (BatchNormalization)        (None, 114, 114, 64) 256         conv5[0][0]                      \n",
      "__________________________________________________________________________________________________\n",
      "activation_2 (Activation)       (None, 114, 114, 64) 0           bn3[0][0]                        \n",
      "__________________________________________________________________________________________________\n",
      "activation_4 (Activation)       (None, 114, 114, 64) 0           bn5[0][0]                        \n",
      "__________________________________________________________________________________________________\n",
      "conv2 (Conv2D)                  (None, 114, 114, 64) 2112        max_pool1[0][0]                  \n",
      "__________________________________________________________________________________________________\n",
      "conv4 (Conv2D)                  (None, 114, 114, 64) 36928       activation_2[0][0]               \n",
      "__________________________________________________________________________________________________\n",
      "conv6 (Conv2D)                  (None, 114, 114, 64) 102464      activation_4[0][0]               \n",
      "__________________________________________________________________________________________________\n",
      "max_pool5 (MaxPooling2D)        (None, 38, 38, 32)   0           max_pool1[0][0]                  \n",
      "__________________________________________________________________________________________________\n",
      "bn2 (BatchNormalization)        (None, 114, 114, 64) 256         conv2[0][0]                      \n",
      "__________________________________________________________________________________________________\n",
      "bn4 (BatchNormalization)        (None, 114, 114, 64) 256         conv4[0][0]                      \n",
      "__________________________________________________________________________________________________\n",
      "bn6 (BatchNormalization)        (None, 114, 114, 64) 256         conv6[0][0]                      \n",
      "__________________________________________________________________________________________________\n",
      "conv7 (Conv2D)                  (None, 38, 38, 64)   2112        max_pool5[0][0]                  \n",
      "__________________________________________________________________________________________________\n",
      "activation_1 (Activation)       (None, 114, 114, 64) 0           bn2[0][0]                        \n",
      "__________________________________________________________________________________________________\n",
      "activation_3 (Activation)       (None, 114, 114, 64) 0           bn4[0][0]                        \n",
      "__________________________________________________________________________________________________\n",
      "activation_5 (Activation)       (None, 114, 114, 64) 0           bn6[0][0]                        \n",
      "__________________________________________________________________________________________________\n",
      "bn7 (BatchNormalization)        (None, 38, 38, 64)   256         conv7[0][0]                      \n",
      "__________________________________________________________________________________________________\n",
      "max_pool2 (MaxPooling2D)        (None, 38, 38, 64)   0           activation_1[0][0]               \n",
      "__________________________________________________________________________________________________\n",
      "max_pool3 (MaxPooling2D)        (None, 38, 38, 64)   0           activation_3[0][0]               \n",
      "__________________________________________________________________________________________________\n",
      "max_pool4 (MaxPooling2D)        (None, 38, 38, 64)   0           activation_5[0][0]               \n",
      "__________________________________________________________________________________________________\n",
      "activation_6 (Activation)       (None, 38, 38, 64)   0           bn7[0][0]                        \n",
      "__________________________________________________________________________________________________\n",
      "concatenate (Concatenate)       (None, 38, 38, 256)  0           max_pool2[0][0]                  \n",
      "                                                                 max_pool3[0][0]                  \n",
      "                                                                 max_pool4[0][0]                  \n",
      "                                                                 activation_6[0][0]               \n",
      "__________________________________________________________________________________________________\n",
      "activation_7 (Activation)       (None, 38, 38, 256)  0           concatenate[0][0]                \n",
      "__________________________________________________________________________________________________\n",
      "fc1 (Dense)                     (None, 38, 38, 128)  32896       activation_7[0][0]               \n",
      "__________________________________________________________________________________________________\n",
      "flatten (Flatten)               (None, 184832)       0           fc1[0][0]                        \n",
      "__________________________________________________________________________________________________\n",
      "fc2 (Dense)                     (None, 7)            1293831     flatten[0][0]                    \n",
      "==================================================================================================\n",
      "Total params: 1,478,663\n",
      "Trainable params: 1,477,831\n",
      "Non-trainable params: 832\n",
      "__________________________________________________________________________________________________\n"
     ]
    }
   ],
   "source": [
    "config = tf.compat.v1.ConfigProto()\n",
    "config.gpu_options.allow_growth = True\n",
    "sess = tf.compat.v1.Session(config=config)\n",
    "\n",
    "modelo = Gnet_model(input_shape=(229,229,3), classes = 7)\n",
    "modelo.compile(optimizer = \"adam\", loss = \"categorical_crossentropy\", metrics = [\"accuracy\"])\n",
    "\n",
    "modelo.summary()"
   ]
  },
  {
   "cell_type": "code",
   "execution_count": null,
   "metadata": {},
   "outputs": [],
   "source": [
    "import numpy as np\n",
    "from sklearn.model_selection import train_test_split\n",
    "X_train, X_test, y_train, y_test = train_test_split(X, y, test_size=0.25)\n",
    "\n"
   ]
  },
  {
   "cell_type": "code",
   "execution_count": null,
   "metadata": {},
   "outputs": [],
   "source": []
  },
  {
   "cell_type": "code",
   "execution_count": null,
   "metadata": {},
   "outputs": [],
   "source": [
    "history = modelo.fit(X_train, y_train, epochs = 20, batch_size = 32 )\n",
    "modelo.test_on_batch(X_test, y_test)\n",
    "modelo.metricx_names"
   ]
  },
  {
   "cell_type": "code",
   "execution_count": null,
   "metadata": {},
   "outputs": [],
   "source": [
    "# Evaluate the model on the test data using `evaluate`\n",
    "print('\\n# Evaluate on test data')\n",
    "results = modelo.evaluate(X_test, y_test, batch_size=128)\n",
    "print('test loss, test acc:', results)\n",
    "\n",
    "# Generate predictions (probabilities -- the output of the last layer)\n",
    "# on new data using `predict`\n",
    "print('\\n# Generate predictions for 3 samples')\n",
    "predictions = modelo.predict(X_test[:3])\n",
    "print('predictions shape:', predictions.shape)\n",
    "print('predicciones: ' , predictions[0],predictions[1],predictions[2])"
   ]
  },
  {
   "cell_type": "code",
   "execution_count": null,
   "metadata": {},
   "outputs": [],
   "source": [
    "loss_train = history.history['loss']\n",
    "loss_val = history.history['accuracy']\n",
    "epochs = range(0,20)\n",
    "plt.plot(epochs, loss_train, 'g', label='Training loss')\n",
    "plt.plot(epochs, loss_val, 'b', label='validation loss')\n",
    "plt.title('Training and Validation loss')\n",
    "plt.xlabel('Epochs')\n",
    "plt.ylabel('Loss')\n",
    "plt.legend()\n",
    "plt.show()"
   ]
  },
  {
   "cell_type": "code",
   "execution_count": null,
   "metadata": {},
   "outputs": [],
   "source": [
    "print(history.history.keys())"
   ]
  }
 ],
 "metadata": {
  "kernelspec": {
   "display_name": "Python 3",
   "language": "python",
   "name": "python3"
  },
  "language_info": {
   "codemirror_mode": {
    "name": "ipython",
    "version": 3
   },
   "file_extension": ".py",
   "mimetype": "text/x-python",
   "name": "python",
   "nbconvert_exporter": "python",
   "pygments_lexer": "ipython3",
   "version": "3.7.7"
  }
 },
 "nbformat": 4,
 "nbformat_minor": 2
}
